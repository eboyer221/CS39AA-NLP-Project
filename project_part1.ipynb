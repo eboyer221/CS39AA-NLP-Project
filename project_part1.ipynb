{
 "cells": [
  {
   "cell_type": "markdown",
   "metadata": {},
   "source": [
    "# Project Part 1 - RateMyProfessor Analysis\n",
    "\n",
    "[![Kaggle](https://kaggle.com/static/images/open-in-kaggle.svg)](https://kaggle.com/kernels/welcome?src=https://github.com/eboyer221/CS39AA-project/blob/main/project_part1.ipynb)\n",
    "\n",
    "[![Open In Colab](https://colab.research.google.com/assets/colab-badge.svg)](https://colab.research.google.com/github/eboyer221/CS39AA-project/blob/main/project_part1.ipynb)\n"
   ]
  },
  {
   "cell_type": "markdown",
   "metadata": {},
   "source": [
    "## 1. Introduction/Background\n",
    "\n",
    "The majority, if not all, educational institutions employ student feedback as a means of evaluating their professors. This feedback typically comprises both ratings and open-ended comments from students. However, in most cases this information is kept confidential and isn't disclosed to either current or prospective students. RateMyProfessors.com (RMP) is one popular, publicly-available platform where students anonymously rate various facets of their instructors' performance, such as clarity, helpfulness, and easiness. Additionally, they can provide open-ended comments.\n",
    "\n",
    "I would like to use this data to better understand what qualitative factors contribute to a professor's rating on RMP. The first goal is to determine whether automatic text classification can distinguish between professors with a high rating (>= 3.5) vs. professors with an average to low rating (< 3.5). I also want to examine student comments to isolate which factors are valued most by students, and whether differences emerge in those factors depending on the department the professor teaches in, as well as the gender of the professor.\n",
    "\n",
    "The dataset used for this project is taken from https://data.mendeley.com/datasets/fvtfjyvw7d/2 and includes ratings and comments for 4406 unique professors. The data set scraped from RMP includes 18 variables. The variable that I am primarily focused on predicting is the star rating of the professor's overall quality, which each student provides along with their review, and which is also combined into an average overall score. According to RMP’s official standard, a rating of 3.5-5.0 is good, 2.5-3.4 is average and 1.0-2.4 is poor. The goal is to develop a model that can automatically analyze and understand the sentiment and content of the comments provided by each student in order to predict the corresponding star rating.\n",
    "\n",
    "Dataset Citation:\n",
    "He, Jibo (2020), “Big Data Set from RateMyProfessor.com for Professors' Teaching Evaluation”, Mendeley Data, V2, doi: 10.17632/fvtfjyvw7d.2\n"
   ]
  },
  {
   "cell_type": "markdown",
   "metadata": {},
   "source": [
    "## 2. Exploratory Data Analysis\n",
    "\n",
    "We will first clean the data set and perform exploratory data analysis to better understand its features.\n",
    "The original data contains many single .csv files, with each file for a single professor's webpage from RMP. This requires some pre-processing. \n"
   ]
  },
  {
   "cell_type": "code",
   "execution_count": 6,
   "metadata": {},
   "outputs": [],
   "source": [
    "# import all of the python modules/packages you'll need here\n",
    "import pandas as pd\n",
    "from collections import Counter\n",
    "import pandas as pd\n",
    "from nltk.corpus import stopwords\n",
    "from nltk.tokenize import word_tokenize\n",
    "import matplotlib.pyplot as plt\n",
    "import seaborn as sns\n",
    "import string\n",
    "# ..."
   ]
  },
  {
   "cell_type": "code",
   "execution_count": null,
   "metadata": {},
   "outputs": [],
   "source": [
    "First, the individual .csv files need to be combined into one merged_data.csv file."
   ]
  },
  {
   "cell_type": "code",
   "execution_count": 7,
   "metadata": {
    "scrolled": true
   },
   "outputs": [
    {
     "data": {
      "text/plain": [
       "\"\\n#code used on local machine to create the merged data set\\nfolder_path = 'folder_path_name'\\nfile_list = [file for file in os.listdir(folder_path) if file.endswith('.csv')]\\n\\n# Initialize an empty DataFrame to store the merged data\\nmerged_data = pd.DataFrame()\\n\\n# Iterate through each file and concatenate it to the merged_data DataFrame\\nfor file in file_list:\\n    file_path = os.path.join(folder_path, file)\\n    df = pd.read_csv(file_path)\\n    merged_data = pd.concat([merged_data, df], ignore_index=True)\\n#save the merged data to a new CSV file\\n    merged_data.to_csv('merged_data.csv', index=False)\\n\""
      ]
     },
     "execution_count": 7,
     "metadata": {},
     "output_type": "execute_result"
    }
   ],
   "source": [
    "\"\"\"\n",
    "#code used on local machine to create the merged data set\n",
    "folder_path = 'folder_path_name'\n",
    "file_list = [file for file in os.listdir(folder_path) if file.endswith('.csv')]\n",
    "\n",
    "# Initialize an empty DataFrame to store the merged data\n",
    "merged_data = pd.DataFrame()\n",
    "\n",
    "# Iterate through each file and concatenate it to the merged_data DataFrame\n",
    "for file in file_list:\n",
    "    file_path = os.path.join(folder_path, file)\n",
    "    df = pd.read_csv(file_path)\n",
    "    merged_data = pd.concat([merged_data, df], ignore_index=True)\n",
    "#save the merged data to a new CSV file\n",
    "    merged_data.to_csv('merged_data.csv', index=False)\n",
    "\"\"\""
   ]
  },
  {
   "cell_type": "markdown",
   "metadata": {},
   "source": [
    "Let's look at the merged data set."
   ]
  },
  {
   "cell_type": "code",
   "execution_count": 43,
   "metadata": {},
   "outputs": [
    {
     "name": "stdout",
     "output_type": "stream",
     "text": [
      "Shape: (19685, 23)\n"
     ]
    },
    {
     "data": {
      "text/html": [
       "<div>\n",
       "<style scoped>\n",
       "    .dataframe tbody tr th:only-of-type {\n",
       "        vertical-align: middle;\n",
       "    }\n",
       "\n",
       "    .dataframe tbody tr th {\n",
       "        vertical-align: top;\n",
       "    }\n",
       "\n",
       "    .dataframe thead th {\n",
       "        text-align: right;\n",
       "    }\n",
       "</style>\n",
       "<table border=\"1\" class=\"dataframe\">\n",
       "  <thead>\n",
       "    <tr style=\"text-align: right;\">\n",
       "      <th></th>\n",
       "      <th>professor_name</th>\n",
       "      <th>school_name</th>\n",
       "      <th>department_name</th>\n",
       "      <th>local_name</th>\n",
       "      <th>state_name</th>\n",
       "      <th>year_since_first_review</th>\n",
       "      <th>star_rating</th>\n",
       "      <th>take_again</th>\n",
       "      <th>diff_index</th>\n",
       "      <th>tag_professor</th>\n",
       "      <th>...</th>\n",
       "      <th>student_star</th>\n",
       "      <th>student_difficult</th>\n",
       "      <th>attence</th>\n",
       "      <th>for_credits</th>\n",
       "      <th>would_take_agains</th>\n",
       "      <th>grades</th>\n",
       "      <th>stu_tags</th>\n",
       "      <th>help_useful</th>\n",
       "      <th>help_not_useful</th>\n",
       "      <th>comments</th>\n",
       "    </tr>\n",
       "  </thead>\n",
       "  <tbody>\n",
       "    <tr>\n",
       "      <th>0</th>\n",
       "      <td>Robert  Olshansky</td>\n",
       "      <td>University Of Illinois at Urbana-Champaign</td>\n",
       "      <td>Urban &amp; Regional Planning department</td>\n",
       "      <td>Champaign\\xe2\\x80\\x93Urbana</td>\n",
       "      <td>IL</td>\n",
       "      <td>0.0</td>\n",
       "      <td>3.5</td>\n",
       "      <td>NaN</td>\n",
       "      <td>2.0</td>\n",
       "      <td>NaN</td>\n",
       "      <td>...</td>\n",
       "      <td>3.5</td>\n",
       "      <td>2.0</td>\n",
       "      <td>NaN</td>\n",
       "      <td>NaN</td>\n",
       "      <td>NaN</td>\n",
       "      <td>NaN</td>\n",
       "      <td>NaN</td>\n",
       "      <td>0</td>\n",
       "      <td>0</td>\n",
       "      <td>Good guy, laid back and interested in his fiel...</td>\n",
       "    </tr>\n",
       "    <tr>\n",
       "      <th>1</th>\n",
       "      <td>Marshall  Levett</td>\n",
       "      <td>Austin Community College</td>\n",
       "      <td>Counseling department</td>\n",
       "      <td>Austin</td>\n",
       "      <td>TX</td>\n",
       "      <td>2.0</td>\n",
       "      <td>5.0</td>\n",
       "      <td>NaN</td>\n",
       "      <td>1.0</td>\n",
       "      <td>NaN</td>\n",
       "      <td>...</td>\n",
       "      <td>5.0</td>\n",
       "      <td>1.0</td>\n",
       "      <td>NaN</td>\n",
       "      <td>NaN</td>\n",
       "      <td>NaN</td>\n",
       "      <td>NaN</td>\n",
       "      <td>NaN</td>\n",
       "      <td>0</td>\n",
       "      <td>0</td>\n",
       "      <td>such a fun professor. really helpful and knows...</td>\n",
       "    </tr>\n",
       "    <tr>\n",
       "      <th>2</th>\n",
       "      <td>Marshall  Levett</td>\n",
       "      <td>Austin Community College</td>\n",
       "      <td>Counseling department</td>\n",
       "      <td>Austin</td>\n",
       "      <td>TX</td>\n",
       "      <td>2.0</td>\n",
       "      <td>5.0</td>\n",
       "      <td>NaN</td>\n",
       "      <td>1.0</td>\n",
       "      <td>NaN</td>\n",
       "      <td>...</td>\n",
       "      <td>5.0</td>\n",
       "      <td>1.0</td>\n",
       "      <td>NaN</td>\n",
       "      <td>NaN</td>\n",
       "      <td>NaN</td>\n",
       "      <td>NaN</td>\n",
       "      <td>NaN</td>\n",
       "      <td>0</td>\n",
       "      <td>0</td>\n",
       "      <td>Such a easy class. It\\'s simple. Do your homew...</td>\n",
       "    </tr>\n",
       "    <tr>\n",
       "      <th>3</th>\n",
       "      <td>Soazig  Le Bihan</td>\n",
       "      <td>University of Montana - Missoula</td>\n",
       "      <td>Philosophy department</td>\n",
       "      <td>Missoula</td>\n",
       "      <td>MT</td>\n",
       "      <td>8.0</td>\n",
       "      <td>3.6</td>\n",
       "      <td>NaN</td>\n",
       "      <td>4.5</td>\n",
       "      <td>Tough Grader (2)  Get ready to read (2)  LOTS ...</td>\n",
       "      <td>...</td>\n",
       "      <td>5.0</td>\n",
       "      <td>5.0</td>\n",
       "      <td>Mandatory</td>\n",
       "      <td>Yes</td>\n",
       "      <td>Yes</td>\n",
       "      <td>A</td>\n",
       "      <td>ACCESSIBLE OUTSIDE CLASS  GET READY TO READ  T...</td>\n",
       "      <td>0</td>\n",
       "      <td>0</td>\n",
       "      <td>A very hard class, and a massive amount of wor...</td>\n",
       "    </tr>\n",
       "    <tr>\n",
       "      <th>4</th>\n",
       "      <td>Soazig  Le Bihan</td>\n",
       "      <td>University of Montana - Missoula</td>\n",
       "      <td>Philosophy department</td>\n",
       "      <td>Missoula</td>\n",
       "      <td>MT</td>\n",
       "      <td>8.0</td>\n",
       "      <td>3.6</td>\n",
       "      <td>NaN</td>\n",
       "      <td>4.5</td>\n",
       "      <td>Tough Grader (2)  Get ready to read (2)  LOTS ...</td>\n",
       "      <td>...</td>\n",
       "      <td>1.0</td>\n",
       "      <td>4.0</td>\n",
       "      <td>Mandatory</td>\n",
       "      <td>Yes</td>\n",
       "      <td>No</td>\n",
       "      <td>NaN</td>\n",
       "      <td>LOTS OF HOMEWORK  GET READY TO READ  TOUGH GRADER</td>\n",
       "      <td>0</td>\n",
       "      <td>2</td>\n",
       "      <td>Took 100 level class for Ethics offered online...</td>\n",
       "    </tr>\n",
       "  </tbody>\n",
       "</table>\n",
       "<p>5 rows × 23 columns</p>\n",
       "</div>"
      ],
      "text/plain": [
       "      professor_name                                 school_name  \\\n",
       "0  Robert  Olshansky  University Of Illinois at Urbana-Champaign   \n",
       "1   Marshall  Levett                    Austin Community College   \n",
       "2   Marshall  Levett                    Austin Community College   \n",
       "3   Soazig  Le Bihan            University of Montana - Missoula   \n",
       "4   Soazig  Le Bihan            University of Montana - Missoula   \n",
       "\n",
       "                        department_name                    local_name  \\\n",
       "0  Urban & Regional Planning department   Champaign\\xe2\\x80\\x93Urbana   \n",
       "1                 Counseling department                        Austin   \n",
       "2                 Counseling department                        Austin   \n",
       "3                 Philosophy department                      Missoula   \n",
       "4                 Philosophy department                      Missoula   \n",
       "\n",
       "  state_name  year_since_first_review  star_rating take_again  diff_index  \\\n",
       "0         IL                      0.0          3.5        NaN         2.0   \n",
       "1         TX                      2.0          5.0        NaN         1.0   \n",
       "2         TX                      2.0          5.0        NaN         1.0   \n",
       "3         MT                      8.0          3.6        NaN         4.5   \n",
       "4         MT                      8.0          3.6        NaN         4.5   \n",
       "\n",
       "                                       tag_professor  ...  student_star  \\\n",
       "0                                                NaN  ...           3.5   \n",
       "1                                                NaN  ...           5.0   \n",
       "2                                                NaN  ...           5.0   \n",
       "3  Tough Grader (2)  Get ready to read (2)  LOTS ...  ...           5.0   \n",
       "4  Tough Grader (2)  Get ready to read (2)  LOTS ...  ...           1.0   \n",
       "\n",
       "  student_difficult    attence  for_credits  would_take_agains grades  \\\n",
       "0               2.0        NaN          NaN                NaN    NaN   \n",
       "1               1.0        NaN          NaN                NaN    NaN   \n",
       "2               1.0        NaN          NaN                NaN    NaN   \n",
       "3               5.0  Mandatory          Yes                Yes      A   \n",
       "4               4.0  Mandatory          Yes                 No    NaN   \n",
       "\n",
       "                                            stu_tags help_useful  \\\n",
       "0                                                NaN           0   \n",
       "1                                                NaN           0   \n",
       "2                                                NaN           0   \n",
       "3  ACCESSIBLE OUTSIDE CLASS  GET READY TO READ  T...           0   \n",
       "4  LOTS OF HOMEWORK  GET READY TO READ  TOUGH GRADER           0   \n",
       "\n",
       "  help_not_useful                                           comments  \n",
       "0               0  Good guy, laid back and interested in his fiel...  \n",
       "1               0  such a fun professor. really helpful and knows...  \n",
       "2               0  Such a easy class. It\\'s simple. Do your homew...  \n",
       "3               0  A very hard class, and a massive amount of wor...  \n",
       "4               2  Took 100 level class for Ethics offered online...  \n",
       "\n",
       "[5 rows x 23 columns]"
      ]
     },
     "execution_count": 43,
     "metadata": {},
     "output_type": "execute_result"
    }
   ],
   "source": [
    "data_path = 'https://raw.githubusercontent.com/eboyer221/CS39AA-Project/main/merged_data.csv'\n",
    "df_1 = pd.read_csv(data_path)\n",
    "print(f\"Shape: {df_1.shape}\")\n",
    "df_1.head()"
   ]
  },
  {
   "cell_type": "markdown",
   "metadata": {},
   "source": [
    "A heatmap will help visualize how sparse the data is for each column. Yellow rows indicate missing or null values."
   ]
  },
  {
   "cell_type": "code",
   "execution_count": 44,
   "metadata": {},
   "outputs": [
    {
     "data": {
      "image/png": "[encoded data removed]",
      "text/plain": [
       "<Figure size 864x576 with 1 Axes>"
      ]
     },
     "metadata": {
      "needs_background": "light"
     },
     "output_type": "display_data"
    }
   ],
   "source": [
    "plt.figure(figsize=(12, 8))\n",
    "sns.heatmap(df_1.isnull(), cbar=False, cmap='viridis')\n",
    "\n",
    "plt.title('Missing Data Heatmap')\n",
    "plt.show()"
   ]
  },
  {
   "cell_type": "markdown",
   "metadata": {},
   "source": [
    "Judging from the heat map it appears that the columns of primary interest (department_name, star_rating, student_star_rating, and comments) are well-populated and do not contain many null values."
   ]
  },
  {
   "cell_type": "code",
   "execution_count": 39,
   "metadata": {},
   "outputs": [
    {
     "name": "stdout",
     "output_type": "stream",
     "text": [
      "missing comments: 101\n",
      "missing ratings: 13\n"
     ]
    }
   ],
   "source": [
    "# number of nulls in comments column\n",
    "blank_values_count = df_1['comments'].isnull().sum()\n",
    "print(f\"missing comments: {blank_values_count}\")\n",
    "\n",
    "# number of nulls in student_star rating column\n",
    "blank_values_count = df_1['student_star'].isnull().sum()\n",
    "print(f\"missing ratings: {blank_values_count}\")"
   ]
  },
  {
   "cell_type": "markdown",
   "metadata": {},
   "source": [
    "We can now remove columns that are not of interest."
   ]
  },
  {
   "cell_type": "code",
   "execution_count": 45,
   "metadata": {},
   "outputs": [
    {
     "name": "stdout",
     "output_type": "stream",
     "text": [
      "Index(['professor_name', 'department_name', 'star_rating', 'num_student',\n",
      "       'student_star', 'student_difficult', 'comments'],\n",
      "      dtype='object')\n"
     ]
    }
   ],
   "source": [
    "# Columns to remove \n",
    "columns_to_remove = ['school_name', 'local_name', 'state_name',\n",
    "                    'year_since_first_review', 'take_again', 'diff_index',\n",
    "                    'tag_professor', 'post_date', 'name_onlines', 'attence',\n",
    "                    'for_credits', 'would_take_agains', 'grades', 'stu_tags',\n",
    "                    'help_useful', 'help_not_useful']\n",
    "\n",
    "# Drop the specified columns\n",
    "df = df_1.drop(columns=columns_to_remove)\n",
    "\n",
    "print(df.columns)\n",
    "\n"
   ]
  },
  {
   "cell_type": "code",
   "execution_count": 46,
   "metadata": {},
   "outputs": [
    {
     "data": {
      "text/html": [
       "<div>\n",
       "<style scoped>\n",
       "    .dataframe tbody tr th:only-of-type {\n",
       "        vertical-align: middle;\n",
       "    }\n",
       "\n",
       "    .dataframe tbody tr th {\n",
       "        vertical-align: top;\n",
       "    }\n",
       "\n",
       "    .dataframe thead th {\n",
       "        text-align: right;\n",
       "    }\n",
       "</style>\n",
       "<table border=\"1\" class=\"dataframe\">\n",
       "  <thead>\n",
       "    <tr style=\"text-align: right;\">\n",
       "      <th></th>\n",
       "      <th>professor_name</th>\n",
       "      <th>department_name</th>\n",
       "      <th>star_rating</th>\n",
       "      <th>num_student</th>\n",
       "      <th>student_star</th>\n",
       "      <th>student_difficult</th>\n",
       "      <th>comments</th>\n",
       "    </tr>\n",
       "  </thead>\n",
       "  <tbody>\n",
       "    <tr>\n",
       "      <th>0</th>\n",
       "      <td>Robert  Olshansky</td>\n",
       "      <td>Urban &amp; Regional Planning department</td>\n",
       "      <td>3.5</td>\n",
       "      <td>1</td>\n",
       "      <td>3.5</td>\n",
       "      <td>2.0</td>\n",
       "      <td>Good guy, laid back and interested in his fiel...</td>\n",
       "    </tr>\n",
       "    <tr>\n",
       "      <th>1</th>\n",
       "      <td>Marshall  Levett</td>\n",
       "      <td>Counseling department</td>\n",
       "      <td>5.0</td>\n",
       "      <td>2</td>\n",
       "      <td>5.0</td>\n",
       "      <td>1.0</td>\n",
       "      <td>such a fun professor. really helpful and knows...</td>\n",
       "    </tr>\n",
       "    <tr>\n",
       "      <th>2</th>\n",
       "      <td>Marshall  Levett</td>\n",
       "      <td>Counseling department</td>\n",
       "      <td>5.0</td>\n",
       "      <td>2</td>\n",
       "      <td>5.0</td>\n",
       "      <td>1.0</td>\n",
       "      <td>Such a easy class. It\\'s simple. Do your homew...</td>\n",
       "    </tr>\n",
       "    <tr>\n",
       "      <th>3</th>\n",
       "      <td>Soazig  Le Bihan</td>\n",
       "      <td>Philosophy department</td>\n",
       "      <td>3.6</td>\n",
       "      <td>4</td>\n",
       "      <td>5.0</td>\n",
       "      <td>5.0</td>\n",
       "      <td>A very hard class, and a massive amount of wor...</td>\n",
       "    </tr>\n",
       "    <tr>\n",
       "      <th>4</th>\n",
       "      <td>Soazig  Le Bihan</td>\n",
       "      <td>Philosophy department</td>\n",
       "      <td>3.6</td>\n",
       "      <td>4</td>\n",
       "      <td>1.0</td>\n",
       "      <td>4.0</td>\n",
       "      <td>Took 100 level class for Ethics offered online...</td>\n",
       "    </tr>\n",
       "  </tbody>\n",
       "</table>\n",
       "</div>"
      ],
      "text/plain": [
       "      professor_name                       department_name  star_rating  \\\n",
       "0  Robert  Olshansky  Urban & Regional Planning department          3.5   \n",
       "1   Marshall  Levett                 Counseling department          5.0   \n",
       "2   Marshall  Levett                 Counseling department          5.0   \n",
       "3   Soazig  Le Bihan                 Philosophy department          3.6   \n",
       "4   Soazig  Le Bihan                 Philosophy department          3.6   \n",
       "\n",
       "   num_student  student_star  student_difficult  \\\n",
       "0            1           3.5                2.0   \n",
       "1            2           5.0                1.0   \n",
       "2            2           5.0                1.0   \n",
       "3            4           5.0                5.0   \n",
       "4            4           1.0                4.0   \n",
       "\n",
       "                                            comments  \n",
       "0  Good guy, laid back and interested in his fiel...  \n",
       "1  such a fun professor. really helpful and knows...  \n",
       "2  Such a easy class. It\\'s simple. Do your homew...  \n",
       "3  A very hard class, and a massive amount of wor...  \n",
       "4  Took 100 level class for Ethics offered online...  "
      ]
     },
     "execution_count": 46,
     "metadata": {},
     "output_type": "execute_result"
    }
   ],
   "source": [
    "df.head()"
   ]
  }
 ],
 "metadata": {
  "kernelspec": {
   "display_name": "Python 3 (ipykernel)",
   "language": "python",
   "name": "python3"
  },
  "language_info": {
   "codemirror_mode": {
    "name": "ipython",
    "version": 3
   },
   "file_extension": ".py",
   "mimetype": "text/x-python",
   "name": "python",
   "nbconvert_exporter": "python",
   "pygments_lexer": "ipython3",
   "version": "3.10.12"
  },
  "vscode": {
   "interpreter": {
    "hash": "bb3398f4b21c7b026dd5874af3f954bf25f1e8ff81e25d82a94abcbbaacf760b"
   }
  }
 },
 "nbformat": 4,
 "nbformat_minor": 2
}
