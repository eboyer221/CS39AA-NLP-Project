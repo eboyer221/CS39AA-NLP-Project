{
 "cells": [
  {
   "cell_type": "markdown",
   "id": "6f31e5c2",
   "metadata": {},
   "source": [
    "# Project Part 2 - RateMyProfessor Analysis\n",
    "\n",
    "[![Kaggle](https://kaggle.com/static/images/open-in-kaggle.svg)](https://kaggle.com/kernels/welcome?src=https://github.com/eboyer221/CS39AA-project/blob/main/project_part2.ipynb)\n",
    "\n",
    "[![Open In Colab](https://colab.research.google.com/assets/colab-badge.svg)](https://colab.research.google.com/github/eboyer221/CS39AA-project/blob/main/project_part2.ipynb)\n"
   ]
  },
  {
   "cell_type": "markdown",
   "id": "195435d9",
   "metadata": {},
   "source": [
    "We will now revisit the RateMyProfessor dataset from [Part 1](https://github.com/eboyer221/CS39AA-Project/blob/main/project_part1.ipynb) and attempt to fit a baseline model to predict ratings using review comments."
   ]
  },
  {
   "cell_type": "code",
   "execution_count": 1,
   "id": "986e5f4e",
   "metadata": {},
   "outputs": [],
   "source": [
    "import pandas as pd\n",
    "from sklearn.model_selection import train_test_split, RandomizedSearchCV\n",
    "from sklearn.feature_extraction.text import TfidfVectorizer\n",
    "from sklearn.linear_model import LogisticRegression\n",
    "from sklearn.metrics import accuracy_score, classification_report, confusion_matrix, ConfusionMatrixDisplay\n",
    "from sklearn.naive_bayes import MultinomialNB, BernoulliNB\n",
    "from sklearn.ensemble import RandomForestClassifier\n",
    "from sklearn.svm import SVC\n",
    "from sklearn.pipeline import make_pipeline \n",
    "from scipy.stats import uniform, randint\n",
    "import re\n",
    "import ast\n",
    "import nltk\n",
    "from nltk.corpus import stopwords\n",
    "from nltk.stem import PorterStemmer, WordNetLemmatizer\n",
    "import seaborn as sns\n",
    "import matplotlib.pyplot as plt\n",
    "# Download NLTK resources (if not already downloaded)\n",
    "#nltk.download('stopwords')\n",
    "#nltk.download('wordnet')"
   ]
  },
  {
   "cell_type": "markdown",
   "id": "f2b6f325",
   "metadata": {},
   "source": [
    "First, we will apply the data pre-processing steps to clean the text of the comments section. In addition, we will apply stemming and lemmatization."
   ]
  },
  {
   "cell_type": "code",
   "execution_count": 2,
   "id": "d62d38c5",
   "metadata": {},
   "outputs": [
    {
     "data": {
      "text/html": [
       "<div>\n",
       "<style scoped>\n",
       "    .dataframe tbody tr th:only-of-type {\n",
       "        vertical-align: middle;\n",
       "    }\n",
       "\n",
       "    .dataframe tbody tr th {\n",
       "        vertical-align: top;\n",
       "    }\n",
       "\n",
       "    .dataframe thead th {\n",
       "        text-align: right;\n",
       "    }\n",
       "</style>\n",
       "<table border=\"1\" class=\"dataframe\">\n",
       "  <thead>\n",
       "    <tr style=\"text-align: right;\">\n",
       "      <th></th>\n",
       "      <th>professor_name</th>\n",
       "      <th>department_name</th>\n",
       "      <th>star_rating</th>\n",
       "      <th>num_student</th>\n",
       "      <th>student_star</th>\n",
       "      <th>student_difficult</th>\n",
       "      <th>comments</th>\n",
       "    </tr>\n",
       "  </thead>\n",
       "  <tbody>\n",
       "    <tr>\n",
       "      <th>0</th>\n",
       "      <td>Robert  Olshansky</td>\n",
       "      <td>Urban &amp; Regional Planning department</td>\n",
       "      <td>3.5</td>\n",
       "      <td>1</td>\n",
       "      <td>3.5</td>\n",
       "      <td>2.0</td>\n",
       "      <td>Good guy, laid back and interested in his field. Class can get... a little..... slllllllloooooowwwwwwww during his junior workshop.</td>\n",
       "    </tr>\n",
       "    <tr>\n",
       "      <th>1</th>\n",
       "      <td>Marshall  Levett</td>\n",
       "      <td>Counseling department</td>\n",
       "      <td>5.0</td>\n",
       "      <td>2</td>\n",
       "      <td>5.0</td>\n",
       "      <td>1.0</td>\n",
       "      <td>such a fun professor. really helpful and knows his stuff</td>\n",
       "    </tr>\n",
       "    <tr>\n",
       "      <th>2</th>\n",
       "      <td>Marshall  Levett</td>\n",
       "      <td>Counseling department</td>\n",
       "      <td>5.0</td>\n",
       "      <td>2</td>\n",
       "      <td>5.0</td>\n",
       "      <td>1.0</td>\n",
       "      <td>Such a easy class. It\\'s simple. Do your homework and pay attention and you will fly right by or be the person that blames him for not leaarning. He wont let you fail. just ask for help....</td>\n",
       "    </tr>\n",
       "    <tr>\n",
       "      <th>3</th>\n",
       "      <td>Soazig  Le Bihan</td>\n",
       "      <td>Philosophy department</td>\n",
       "      <td>3.6</td>\n",
       "      <td>4</td>\n",
       "      <td>5.0</td>\n",
       "      <td>5.0</td>\n",
       "      <td>A very hard class, and a massive amount of work. But, Soazig is also very good about explaining difficult concepts, gives excellent feedback, and is very accessible for extra assistance.</td>\n",
       "    </tr>\n",
       "    <tr>\n",
       "      <th>4</th>\n",
       "      <td>Soazig  Le Bihan</td>\n",
       "      <td>Philosophy department</td>\n",
       "      <td>3.6</td>\n",
       "      <td>4</td>\n",
       "      <td>1.0</td>\n",
       "      <td>4.0</td>\n",
       "      <td>Took 100 level class for Ethics offered online as an option to fill a core requirement She was terrible! Did not seem to have a grasp of the English language nor does she seem to have a grasp on reality as she insisted many times that failure in an ENTRY LEVEL, OPTIONAL class is very common due to the \"difficulty\" of material, very full of herself</td>\n",
       "    </tr>\n",
       "  </tbody>\n",
       "</table>\n",
       "</div>"
      ],
      "text/plain": [
       "      professor_name                       department_name  star_rating  \\\n",
       "0  Robert  Olshansky  Urban & Regional Planning department          3.5   \n",
       "1   Marshall  Levett                 Counseling department          5.0   \n",
       "2   Marshall  Levett                 Counseling department          5.0   \n",
       "3   Soazig  Le Bihan                 Philosophy department          3.6   \n",
       "4   Soazig  Le Bihan                 Philosophy department          3.6   \n",
       "\n",
       "   num_student  student_star  student_difficult  \\\n",
       "0            1           3.5                2.0   \n",
       "1            2           5.0                1.0   \n",
       "2            2           5.0                1.0   \n",
       "3            4           5.0                5.0   \n",
       "4            4           1.0                4.0   \n",
       "\n",
       "                                                                                                                                                                                                                                                                                                                                                        comments  \n",
       "0                                                                                                                                                                                                                            Good guy, laid back and interested in his field. Class can get... a little..... slllllllloooooowwwwwwww during his junior workshop.  \n",
       "1                                                                                                                                                                                                                                                                                                       such a fun professor. really helpful and knows his stuff  \n",
       "2                                                                                                                                                                  Such a easy class. It\\'s simple. Do your homework and pay attention and you will fly right by or be the person that blames him for not leaarning. He wont let you fail. just ask for help....  \n",
       "3                                                                                                                                                                     A very hard class, and a massive amount of work. But, Soazig is also very good about explaining difficult concepts, gives excellent feedback, and is very accessible for extra assistance.  \n",
       "4  Took 100 level class for Ethics offered online as an option to fill a core requirement She was terrible! Did not seem to have a grasp of the English language nor does she seem to have a grasp on reality as she insisted many times that failure in an ENTRY LEVEL, OPTIONAL class is very common due to the \"difficulty\" of material, very full of herself  "
      ]
     },
     "execution_count": 2,
     "metadata": {},
     "output_type": "execute_result"
    }
   ],
   "source": [
    "data_path = 'https://raw.githubusercontent.com/eboyer221/CS39AA-Project/main/merged_data.csv'\n",
    "df_1 = pd.read_csv(data_path)\n",
    "#remove rows that have null values in either of these columns\n",
    "columns_to_check = ['student_star', 'comments']\n",
    "\n",
    "# Remove rows with null values in either of the specified columns\n",
    "df_1 = df_1.dropna(subset=columns_to_check)\n",
    "\n",
    "# Reset the index after removing rows\n",
    "df_1.reset_index(drop=True, inplace=True)\n",
    "# Columns to remove \n",
    "columns_to_remove = ['school_name', 'local_name', 'state_name',\n",
    "                    'year_since_first_review', 'take_again', 'diff_index',\n",
    "                    'tag_professor', 'post_date', 'name_onlines', 'attence',\n",
    "                    'for_credits', 'would_take_agains', 'grades', 'stu_tags',\n",
    "                    'help_useful', 'help_not_useful']\n",
    "\n",
    "# Drop the specified columns\n",
    "df = df_1.drop(columns=columns_to_remove)\n",
    "\n",
    "#Change the pandas default column width to view more of the comments field\n",
    "pd.set_option(\"display.max_colwidth\", 370)\n",
    "\n",
    "df.head()"
   ]
  },
  {
   "cell_type": "code",
   "execution_count": 3,
   "id": "54ac9817",
   "metadata": {},
   "outputs": [
    {
     "data": {
      "text/html": [
       "<div>\n",
       "<style scoped>\n",
       "    .dataframe tbody tr th:only-of-type {\n",
       "        vertical-align: middle;\n",
       "    }\n",
       "\n",
       "    .dataframe tbody tr th {\n",
       "        vertical-align: top;\n",
       "    }\n",
       "\n",
       "    .dataframe thead th {\n",
       "        text-align: right;\n",
       "    }\n",
       "</style>\n",
       "<table border=\"1\" class=\"dataframe\">\n",
       "  <thead>\n",
       "    <tr style=\"text-align: right;\">\n",
       "      <th></th>\n",
       "      <th>professor_name</th>\n",
       "      <th>department_name</th>\n",
       "      <th>star_rating</th>\n",
       "      <th>num_student</th>\n",
       "      <th>student_star</th>\n",
       "      <th>student_difficult</th>\n",
       "      <th>comments</th>\n",
       "      <th>tokens_stemm</th>\n",
       "    </tr>\n",
       "  </thead>\n",
       "  <tbody>\n",
       "    <tr>\n",
       "      <th>0</th>\n",
       "      <td>Robert  Olshansky</td>\n",
       "      <td>Urban &amp; Regional Planning department</td>\n",
       "      <td>3.5</td>\n",
       "      <td>1</td>\n",
       "      <td>3.5</td>\n",
       "      <td>2.0</td>\n",
       "      <td>Good guy, laid back and interested in his field. Class can get... a little..... slllllllloooooowwwwwwww during his junior workshop.</td>\n",
       "      <td>good guy laid back interest field class get littl slllllllloooooowwwwwwww junior workshop</td>\n",
       "    </tr>\n",
       "    <tr>\n",
       "      <th>1</th>\n",
       "      <td>Marshall  Levett</td>\n",
       "      <td>Counseling department</td>\n",
       "      <td>5.0</td>\n",
       "      <td>2</td>\n",
       "      <td>5.0</td>\n",
       "      <td>1.0</td>\n",
       "      <td>such a fun professor. really helpful and knows his stuff</td>\n",
       "      <td>fun professor realli help know stuff</td>\n",
       "    </tr>\n",
       "    <tr>\n",
       "      <th>2</th>\n",
       "      <td>Marshall  Levett</td>\n",
       "      <td>Counseling department</td>\n",
       "      <td>5.0</td>\n",
       "      <td>2</td>\n",
       "      <td>5.0</td>\n",
       "      <td>1.0</td>\n",
       "      <td>Such a easy class. It\\'s simple. Do your homework and pay attention and you will fly right by or be the person that blames him for not leaarning. He wont let you fail. just ask for help....</td>\n",
       "      <td>easi class simpl homework pay attent fli right person blame leaarn wont let fail ask help</td>\n",
       "    </tr>\n",
       "    <tr>\n",
       "      <th>3</th>\n",
       "      <td>Soazig  Le Bihan</td>\n",
       "      <td>Philosophy department</td>\n",
       "      <td>3.6</td>\n",
       "      <td>4</td>\n",
       "      <td>5.0</td>\n",
       "      <td>5.0</td>\n",
       "      <td>A very hard class, and a massive amount of work. But, Soazig is also very good about explaining difficult concepts, gives excellent feedback, and is very accessible for extra assistance.</td>\n",
       "      <td>hard class massiv amount work soazig also good explain difficult concept give excel feedback access extra assist</td>\n",
       "    </tr>\n",
       "    <tr>\n",
       "      <th>4</th>\n",
       "      <td>Soazig  Le Bihan</td>\n",
       "      <td>Philosophy department</td>\n",
       "      <td>3.6</td>\n",
       "      <td>4</td>\n",
       "      <td>1.0</td>\n",
       "      <td>4.0</td>\n",
       "      <td>Took 100 level class for Ethics offered online as an option to fill a core requirement She was terrible! Did not seem to have a grasp of the English language nor does she seem to have a grasp on reality as she insisted many times that failure in an ENTRY LEVEL, OPTIONAL class is very common due to the \"difficulty\" of material, very full of herself</td>\n",
       "      <td>took level class ethic offer onlin option fill core requir terribl seem grasp english languag seem grasp realiti insist mani time failur entri level option class common due difficulti materi full</td>\n",
       "    </tr>\n",
       "  </tbody>\n",
       "</table>\n",
       "</div>"
      ],
      "text/plain": [
       "      professor_name                       department_name  star_rating  \\\n",
       "0  Robert  Olshansky  Urban & Regional Planning department          3.5   \n",
       "1   Marshall  Levett                 Counseling department          5.0   \n",
       "2   Marshall  Levett                 Counseling department          5.0   \n",
       "3   Soazig  Le Bihan                 Philosophy department          3.6   \n",
       "4   Soazig  Le Bihan                 Philosophy department          3.6   \n",
       "\n",
       "   num_student  student_star  student_difficult  \\\n",
       "0            1           3.5                2.0   \n",
       "1            2           5.0                1.0   \n",
       "2            2           5.0                1.0   \n",
       "3            4           5.0                5.0   \n",
       "4            4           1.0                4.0   \n",
       "\n",
       "                                                                                                                                                                                                                                                                                                                                                        comments  \\\n",
       "0                                                                                                                                                                                                                            Good guy, laid back and interested in his field. Class can get... a little..... slllllllloooooowwwwwwww during his junior workshop.   \n",
       "1                                                                                                                                                                                                                                                                                                       such a fun professor. really helpful and knows his stuff   \n",
       "2                                                                                                                                                                  Such a easy class. It\\'s simple. Do your homework and pay attention and you will fly right by or be the person that blames him for not leaarning. He wont let you fail. just ask for help....   \n",
       "3                                                                                                                                                                     A very hard class, and a massive amount of work. But, Soazig is also very good about explaining difficult concepts, gives excellent feedback, and is very accessible for extra assistance.   \n",
       "4  Took 100 level class for Ethics offered online as an option to fill a core requirement She was terrible! Did not seem to have a grasp of the English language nor does she seem to have a grasp on reality as she insisted many times that failure in an ENTRY LEVEL, OPTIONAL class is very common due to the \"difficulty\" of material, very full of herself   \n",
       "\n",
       "                                                                                                                                                                                          tokens_stemm  \n",
       "0                                                                                                            good guy laid back interest field class get littl slllllllloooooowwwwwwww junior workshop  \n",
       "1                                                                                                                                                                 fun professor realli help know stuff  \n",
       "2                                                                                                            easi class simpl homework pay attent fli right person blame leaarn wont let fail ask help  \n",
       "3                                                                                     hard class massiv amount work soazig also good explain difficult concept give excel feedback access extra assist  \n",
       "4  took level class ethic offer onlin option fill core requir terribl seem grasp english languag seem grasp realiti insist mani time failur entri level option class common due difficulti materi full  "
      ]
     },
     "execution_count": 3,
     "metadata": {},
     "output_type": "execute_result"
    }
   ],
   "source": [
    "# Function to clean up comments text using stemming\n",
    "def clean_comments_stemm(text):\n",
    "    # Check if the value is a string and not NaN\n",
    "    if isinstance(text, str) and text.lower() != 'nan':\n",
    "        # Convert to lowercase\n",
    "        text = text.lower()\n",
    "\n",
    "        # Remove special characters, numbers, and extra whitespaces\n",
    "        text = re.sub(r'[^a-zA-Z\\s]', '', text)\n",
    "\n",
    "        # Remove stop words\n",
    "        stop_words = set(stopwords.words('english'))\n",
    "        words = text.split()\n",
    "        words = [word for word in words if word not in stop_words]\n",
    "        text = ' '.join(words)\n",
    "\n",
    "        # Perform stemming\n",
    "        stemmer = PorterStemmer()\n",
    "        words = text.split()\n",
    "        words = [stemmer.stem(word) for word in words]\n",
    "        text = ' '.join(words)\n",
    "\n",
    "    return text\n",
    "\n",
    "# Apply the clean_comments function to the 'comments' column\n",
    "df['tokens_stemm'] = df['comments'].apply(clean_comments_stemm)\n",
    "\n",
    "df.head()"
   ]
  },
  {
   "cell_type": "code",
   "execution_count": 4,
   "id": "16072263",
   "metadata": {},
   "outputs": [
    {
     "data": {
      "text/html": [
       "<div>\n",
       "<style scoped>\n",
       "    .dataframe tbody tr th:only-of-type {\n",
       "        vertical-align: middle;\n",
       "    }\n",
       "\n",
       "    .dataframe tbody tr th {\n",
       "        vertical-align: top;\n",
       "    }\n",
       "\n",
       "    .dataframe thead th {\n",
       "        text-align: right;\n",
       "    }\n",
       "</style>\n",
       "<table border=\"1\" class=\"dataframe\">\n",
       "  <thead>\n",
       "    <tr style=\"text-align: right;\">\n",
       "      <th></th>\n",
       "      <th>professor_name</th>\n",
       "      <th>department_name</th>\n",
       "      <th>star_rating</th>\n",
       "      <th>num_student</th>\n",
       "      <th>student_star</th>\n",
       "      <th>student_difficult</th>\n",
       "      <th>comments</th>\n",
       "      <th>tokens_stemm</th>\n",
       "      <th>tokens_lemm</th>\n",
       "    </tr>\n",
       "  </thead>\n",
       "  <tbody>\n",
       "    <tr>\n",
       "      <th>0</th>\n",
       "      <td>Robert  Olshansky</td>\n",
       "      <td>Urban &amp; Regional Planning department</td>\n",
       "      <td>3.5</td>\n",
       "      <td>1</td>\n",
       "      <td>3.5</td>\n",
       "      <td>2.0</td>\n",
       "      <td>Good guy, laid back and interested in his field. Class can get... a little..... slllllllloooooowwwwwwww during his junior workshop.</td>\n",
       "      <td>good guy laid back interest field class get littl slllllllloooooowwwwwwww junior workshop</td>\n",
       "      <td>[good, guy, laid, back, interested, field, class, get, little, slllllllloooooowwwwwwww, junior, workshop]</td>\n",
       "    </tr>\n",
       "    <tr>\n",
       "      <th>1</th>\n",
       "      <td>Marshall  Levett</td>\n",
       "      <td>Counseling department</td>\n",
       "      <td>5.0</td>\n",
       "      <td>2</td>\n",
       "      <td>5.0</td>\n",
       "      <td>1.0</td>\n",
       "      <td>such a fun professor. really helpful and knows his stuff</td>\n",
       "      <td>fun professor realli help know stuff</td>\n",
       "      <td>[fun, professor, really, helpful, know, stuff]</td>\n",
       "    </tr>\n",
       "    <tr>\n",
       "      <th>2</th>\n",
       "      <td>Marshall  Levett</td>\n",
       "      <td>Counseling department</td>\n",
       "      <td>5.0</td>\n",
       "      <td>2</td>\n",
       "      <td>5.0</td>\n",
       "      <td>1.0</td>\n",
       "      <td>Such a easy class. It\\'s simple. Do your homework and pay attention and you will fly right by or be the person that blames him for not leaarning. He wont let you fail. just ask for help....</td>\n",
       "      <td>easi class simpl homework pay attent fli right person blame leaarn wont let fail ask help</td>\n",
       "      <td>[easy, class, simple, homework, pay, attention, fly, right, person, blame, leaarning, wont, let, fail, ask, help]</td>\n",
       "    </tr>\n",
       "    <tr>\n",
       "      <th>3</th>\n",
       "      <td>Soazig  Le Bihan</td>\n",
       "      <td>Philosophy department</td>\n",
       "      <td>3.6</td>\n",
       "      <td>4</td>\n",
       "      <td>5.0</td>\n",
       "      <td>5.0</td>\n",
       "      <td>A very hard class, and a massive amount of work. But, Soazig is also very good about explaining difficult concepts, gives excellent feedback, and is very accessible for extra assistance.</td>\n",
       "      <td>hard class massiv amount work soazig also good explain difficult concept give excel feedback access extra assist</td>\n",
       "      <td>[hard, class, massive, amount, work, soazig, also, good, explaining, difficult, concept, give, excellent, feedback, accessible, extra, assistance]</td>\n",
       "    </tr>\n",
       "    <tr>\n",
       "      <th>4</th>\n",
       "      <td>Soazig  Le Bihan</td>\n",
       "      <td>Philosophy department</td>\n",
       "      <td>3.6</td>\n",
       "      <td>4</td>\n",
       "      <td>1.0</td>\n",
       "      <td>4.0</td>\n",
       "      <td>Took 100 level class for Ethics offered online as an option to fill a core requirement She was terrible! Did not seem to have a grasp of the English language nor does she seem to have a grasp on reality as she insisted many times that failure in an ENTRY LEVEL, OPTIONAL class is very common due to the \"difficulty\" of material, very full of herself</td>\n",
       "      <td>took level class ethic offer onlin option fill core requir terribl seem grasp english languag seem grasp realiti insist mani time failur entri level option class common due difficulti materi full</td>\n",
       "      <td>[took, level, class, ethic, offered, online, option, fill, core, requirement, terrible, seem, grasp, english, language, seem, grasp, reality, insisted, many, time, failure, entry, level, optional, class, common, due, difficulty, material, full]</td>\n",
       "    </tr>\n",
       "  </tbody>\n",
       "</table>\n",
       "</div>"
      ],
      "text/plain": [
       "      professor_name                       department_name  star_rating  \\\n",
       "0  Robert  Olshansky  Urban & Regional Planning department          3.5   \n",
       "1   Marshall  Levett                 Counseling department          5.0   \n",
       "2   Marshall  Levett                 Counseling department          5.0   \n",
       "3   Soazig  Le Bihan                 Philosophy department          3.6   \n",
       "4   Soazig  Le Bihan                 Philosophy department          3.6   \n",
       "\n",
       "   num_student  student_star  student_difficult  \\\n",
       "0            1           3.5                2.0   \n",
       "1            2           5.0                1.0   \n",
       "2            2           5.0                1.0   \n",
       "3            4           5.0                5.0   \n",
       "4            4           1.0                4.0   \n",
       "\n",
       "                                                                                                                                                                                                                                                                                                                                                        comments  \\\n",
       "0                                                                                                                                                                                                                            Good guy, laid back and interested in his field. Class can get... a little..... slllllllloooooowwwwwwww during his junior workshop.   \n",
       "1                                                                                                                                                                                                                                                                                                       such a fun professor. really helpful and knows his stuff   \n",
       "2                                                                                                                                                                  Such a easy class. It\\'s simple. Do your homework and pay attention and you will fly right by or be the person that blames him for not leaarning. He wont let you fail. just ask for help....   \n",
       "3                                                                                                                                                                     A very hard class, and a massive amount of work. But, Soazig is also very good about explaining difficult concepts, gives excellent feedback, and is very accessible for extra assistance.   \n",
       "4  Took 100 level class for Ethics offered online as an option to fill a core requirement She was terrible! Did not seem to have a grasp of the English language nor does she seem to have a grasp on reality as she insisted many times that failure in an ENTRY LEVEL, OPTIONAL class is very common due to the \"difficulty\" of material, very full of herself   \n",
       "\n",
       "                                                                                                                                                                                          tokens_stemm  \\\n",
       "0                                                                                                            good guy laid back interest field class get littl slllllllloooooowwwwwwww junior workshop   \n",
       "1                                                                                                                                                                 fun professor realli help know stuff   \n",
       "2                                                                                                            easi class simpl homework pay attent fli right person blame leaarn wont let fail ask help   \n",
       "3                                                                                     hard class massiv amount work soazig also good explain difficult concept give excel feedback access extra assist   \n",
       "4  took level class ethic offer onlin option fill core requir terribl seem grasp english languag seem grasp realiti insist mani time failur entri level option class common due difficulti materi full   \n",
       "\n",
       "                                                                                                                                                                                                                                            tokens_lemm  \n",
       "0                                                                                                                                             [good, guy, laid, back, interested, field, class, get, little, slllllllloooooowwwwwwww, junior, workshop]  \n",
       "1                                                                                                                                                                                                        [fun, professor, really, helpful, know, stuff]  \n",
       "2                                                                                                                                     [easy, class, simple, homework, pay, attention, fly, right, person, blame, leaarning, wont, let, fail, ask, help]  \n",
       "3                                                                                                    [hard, class, massive, amount, work, soazig, also, good, explaining, difficult, concept, give, excellent, feedback, accessible, extra, assistance]  \n",
       "4  [took, level, class, ethic, offered, online, option, fill, core, requirement, terrible, seem, grasp, english, language, seem, grasp, reality, insisted, many, time, failure, entry, level, optional, class, common, due, difficulty, material, full]  "
      ]
     },
     "execution_count": 4,
     "metadata": {},
     "output_type": "execute_result"
    }
   ],
   "source": [
    "# Function to clean up comments text using lemmatization\n",
    "def clean_comments_lemm(text):\n",
    "    # Check if the value is a string and not NaN\n",
    "    if isinstance(text, str) and text.lower() != 'nan':\n",
    "        # Convert to lowercase\n",
    "        text = text.lower()\n",
    "\n",
    "        # Remove special characters, numbers, and extra whitespaces\n",
    "        text = re.sub(r'[^a-zA-Z\\s]', '', text)\n",
    "\n",
    "        # Remove stop words\n",
    "        stop_words = set(stopwords.words('english'))\n",
    "        words = text.split()\n",
    "        words = [word for word in words if word not in stop_words]\n",
    "\n",
    "        # Perform lemmatization\n",
    "        lemmatizer = WordNetLemmatizer()\n",
    "        words = [lemmatizer.lemmatize(word) for word in words]\n",
    "\n",
    "        return words\n",
    "    \n",
    "    return []\n",
    "\n",
    "\n",
    "# Apply the clean_comments function with lemmatization to the 'comments' column\n",
    "df['tokens_lemm'] = df['comments'].apply(clean_comments_lemm)\n",
    "\n",
    "df.head()"
   ]
  },
  {
   "cell_type": "markdown",
   "id": "9718ab5d",
   "metadata": {},
   "source": [
    "The variable that I am primarily focused on predicting using comments is the star rating of the professor's overall quality. This is a continuous numerical variable, however it can be conceptually broken up into quality categories. According to RMP’s official standard, a rating of 3.5-5.0 is good, 2.5-3.4 is average and 1.0-2.4 is poor. I would like to determine the terms that distinguish the highest performing professors so I would like to see whether we could structure this initial model as a binary classification problem by dividing the ratings into 'good' and 'bad' with ratings greater than or equal to 3.5 (=>3.5) being categorized as 'good' (1) and ratings lower than 3.5 (<3.5) being categorized as 'bad' (0).  "
   ]
  },
  {
   "cell_type": "code",
   "execution_count": 5,
   "id": "cb58127e",
   "metadata": {
    "scrolled": true
   },
   "outputs": [
    {
     "name": "stdout",
     "output_type": "stream",
     "text": [
      "rating_result\n",
      "1    13549\n",
      "0     6035\n",
      "Name: count, dtype: int64\n"
     ]
    }
   ],
   "source": [
    "#Create a new binary column 'rating_result' where:\n",
    "#1 represents ratings that are greater than or equal to 3.5 (considered \"good\" or positive).\n",
    "#0 represents ratings that are less than 3.5 (considered \"bad\" or negative).\n",
    "\n",
    "df['rating_result'] = (df['student_star'] >= 3.5).astype(int)\n",
    "rating_result_counts = df['rating_result'].value_counts()\n",
    "\n",
    "# Display the counts\n",
    "print(rating_result_counts)\n"
   ]
  },
  {
   "cell_type": "markdown",
   "id": "a839e815",
   "metadata": {},
   "source": [
    "There are 13549 'good' ratings and 6035 'bad' ratings. This means that 68% of the data set is composed of high ratings. We will use sklearn.model_selection.train_test_split() to split the dataset into validation and training subsets."
   ]
  },
  {
   "cell_type": "markdown",
   "id": "dbe5b2fe",
   "metadata": {},
   "source": [
    "Now let's create a vocabulary sorted by frequency for the full dataset, and the subsets of tokens associated with good and bad ratings."
   ]
  },
  {
   "cell_type": "code",
   "execution_count": 6,
   "id": "058dfb19",
   "metadata": {
    "scrolled": true
   },
   "outputs": [
    {
     "name": "stdout",
     "output_type": "stream",
     "text": [
      "tokens_lemm\n",
      "<class 'list'>    19584\n",
      "Name: count, dtype: int64\n",
      "number of unique tokens overall: 17350, pos tokens: 13250, neg: 9404)\n"
     ]
    }
   ],
   "source": [
    "# Check the data types in the 'tokens_lemm' column\n",
    "print(df['tokens_lemm'].apply(type).value_counts())\n",
    "\n",
    "# Subset the data by good and bad ratings in the main DataFrame\n",
    "df_good = df[df['rating_result'] == 1]\n",
    "df_bad = df[df['rating_result'] == 0]\n",
    "\n",
    "def create_vocab_list(tokens_column):\n",
    "    vocab = dict()\n",
    "    for lemm_tokens in tokens_column:\n",
    "        for token in lemm_tokens:\n",
    "            if token not in vocab:\n",
    "                vocab[token] = 1\n",
    "            else:\n",
    "                vocab[token] += 1\n",
    "    return vocab\n",
    "\n",
    "# Create vocabularies for all, good, and bad ratings in the main DataFrame\n",
    "vocab_all = dict(sorted(create_vocab_list(df['tokens_lemm']).items(), key=lambda item: item[1], reverse=True))\n",
    "vocab_good = dict(sorted(create_vocab_list(df_good['tokens_lemm']).items(), key=lambda item: item[1], reverse=True))\n",
    "vocab_bad = dict(sorted(create_vocab_list(df_bad['tokens_lemm']).items(), key=lambda item: item[1], reverse=True))\n",
    "\n",
    "print(f\"number of unique tokens overall: {len(vocab_all)}, pos tokens: {len(vocab_good)}, neg: {len(vocab_bad)})\")"
   ]
  },
  {
   "cell_type": "markdown",
   "id": "23297c65",
   "metadata": {},
   "source": [
    "Let us consider the list of the most frequent words in the overall data set."
   ]
  },
  {
   "cell_type": "code",
   "execution_count": 7,
   "id": "b606cac0",
   "metadata": {},
   "outputs": [
    {
     "data": {
      "text/plain": [
       "[('class', 17332),\n",
       " ('professor', 5522),\n",
       " ('take', 5029),\n",
       " ('teacher', 4995),\n",
       " ('easy', 4079),\n",
       " ('test', 3807),\n",
       " ('great', 3806),\n",
       " ('student', 3753),\n",
       " ('really', 3739),\n",
       " ('good', 3222),\n",
       " ('make', 3200),\n",
       " ('get', 2922),\n",
       " ('lot', 2805),\n",
       " ('lecture', 2762),\n",
       " ('help', 2702),\n",
       " ('hard', 2617),\n",
       " ('time', 2525),\n",
       " ('work', 2486),\n",
       " ('helpful', 2325),\n",
       " ('one', 2322)]"
      ]
     },
     "execution_count": 7,
     "metadata": {},
     "output_type": "execute_result"
    }
   ],
   "source": [
    "list(vocab_all.items())[:20]\n",
    "#list(vocab_good.items())[:20]\n",
    "#list(vocab_bad.items())[:20]"
   ]
  },
  {
   "cell_type": "code",
   "execution_count": 8,
   "id": "27e6dfd3",
   "metadata": {},
   "outputs": [
    {
     "name": "stdout",
     "output_type": "stream",
     "text": [
      "Training Set:\n",
      "train_df.shape: (15667, 2)\n",
      "\n",
      "Testing Set:\n",
      "test_df.shape: (3917, 2)\n"
     ]
    }
   ],
   "source": [
    "X = df['tokens_lemm'].apply(lambda tokens: ' '.join(tokens))  # Convert lists to space-separated strings\n",
    "y = df['rating_result']  # Binary classification labels (0 or 1)\n",
    "\n",
    "# Split the data into training and testing sets\n",
    "X_train, X_test, y_train, y_test = train_test_split(X, y, test_size=0.2, random_state=42)\n",
    "\n",
    "# Convert to DataFrames\n",
    "train_df = pd.DataFrame({'tokens_lemm': X_train, 'rating_result': y_train})\n",
    "test_df = pd.DataFrame({'tokens_lemm': X_test, 'rating_result': X_test})\n",
    "\n",
    "# Display the first few rows of the training set\n",
    "print(\"Training Set:\")\n",
    "print(f\"train_df.shape: {train_df.shape}\")\n",
    "\n",
    "# Display the first few rows of the testing set\n",
    "print(\"\\nTesting Set:\")\n",
    "print(f\"test_df.shape: {test_df.shape}\")\n",
    "\n"
   ]
  },
  {
   "cell_type": "code",
   "execution_count": 9,
   "id": "ab507094",
   "metadata": {},
   "outputs": [
    {
     "name": "stdout",
     "output_type": "stream",
     "text": [
      "Training Set:\n",
      "rating_result\n",
      "1    10808\n",
      "0     4859\n",
      "Name: count, dtype: int64\n",
      "\n",
      "Testing Set:\n",
      "rating_result\n",
      "1    2741\n",
      "0    1176\n",
      "Name: count, dtype: int64\n"
     ]
    }
   ],
   "source": [
    "# Display the counts in the training set\n",
    "training_counts = y_train.value_counts()\n",
    "print(\"Training Set:\")\n",
    "print(training_counts)\n",
    "\n",
    "# Display the counts in the testing set\n",
    "test_counts = y_test.value_counts()\n",
    "print(\"\\nTesting Set:\")\n",
    "print(test_counts)"
   ]
  },
  {
   "cell_type": "markdown",
   "id": "dfd54d0d",
   "metadata": {},
   "source": [
    "The distribution of 'good' and 'bad' ratings in the training and test sets appear to reflect the proportions in the initial data set.\n",
    "\n",
    "Next, we will vectorize the lemmatized comments using the term-frequency inverse-document-frequency vectorizer from sklearn, TfidfVectorizer. "
   ]
  },
  {
   "cell_type": "code",
   "execution_count": 10,
   "id": "effe2a63",
   "metadata": {},
   "outputs": [
    {
     "name": "stdout",
     "output_type": "stream",
     "text": [
      "  (0, 13253)\t0.07636404096082271\n",
      "  (0, 554)\t0.24398835644306227\n",
      "  (0, 11109)\t0.10539222019848868\n",
      "  (0, 6679)\t0.1754500359426066\n",
      "  (0, 7783)\t0.2721049603818123\n",
      "  (0, 4221)\t0.3058161456292556\n",
      "  (0, 5749)\t0.08938841579971295\n",
      "  (0, 13728)\t0.09759873856661719\n",
      "  (0, 514)\t0.1700386506597691\n",
      "  (0, 3363)\t0.18639469333654232\n",
      "  (0, 10850)\t0.10446763072965057\n",
      "  (0, 606)\t0.13069207925295429\n",
      "  (0, 12784)\t0.14497186374056917\n",
      "  (0, 2934)\t0.3058161456292556\n",
      "  (0, 5057)\t0.1555247402703939\n",
      "  (0, 10024)\t0.27769954169050554\n",
      "  (0, 8952)\t0.1112606784931259\n",
      "  (0, 9453)\t0.16913341559853978\n",
      "  (0, 3886)\t0.11415284055032542\n",
      "  (0, 13663)\t0.13274730986101102\n",
      "  (0, 1808)\t0.20094237119141414\n",
      "  (0, 10887)\t0.1684279766410329\n",
      "  (0, 6218)\t0.11072420952855881\n",
      "  (0, 13638)\t0.12998664029544743\n",
      "  (0, 12986)\t0.13210014541966897\n",
      "  :\t:\n",
      "  (15665, 13814)\t0.12025462738142616\n",
      "  (15665, 11011)\t0.1190274331496337\n",
      "  (15665, 14194)\t0.14078008637366315\n",
      "  (15665, 1548)\t0.11333142166048095\n",
      "  (15665, 6276)\t0.09514759340169046\n",
      "  (15665, 4167)\t0.0842277687390146\n",
      "  (15665, 9457)\t0.14616596805920076\n",
      "  (15665, 13132)\t0.12487676503833121\n",
      "  (15665, 8259)\t0.0897406166613566\n",
      "  (15665, 13331)\t0.07686424181947754\n",
      "  (15665, 2912)\t0.15416455439384497\n",
      "  (15665, 2298)\t0.09624693937264006\n",
      "  (15666, 2115)\t0.43185006925020886\n",
      "  (15666, 8313)\t0.43185006925020886\n",
      "  (15666, 13286)\t0.43185006925020886\n",
      "  (15666, 6703)\t0.3105452410415144\n",
      "  (15666, 3549)\t0.3221911226492097\n",
      "  (15666, 8827)\t0.2787260903396311\n",
      "  (15666, 14680)\t0.25990695236818206\n",
      "  (15666, 5712)\t0.15292366778463948\n",
      "  (15666, 3920)\t0.14670073677554632\n",
      "  (15666, 2298)\t0.07049747703493586\n",
      "  (15666, 13253)\t0.11240865589180891\n",
      "  (15666, 13728)\t0.14366634977630308\n",
      "  (15666, 10592)\t0.10899015968430223\n"
     ]
    }
   ],
   "source": [
    "# Vectorize text data using TF-IDF\n",
    "vectorizer = TfidfVectorizer()\n",
    "X_train_vectorized = vectorizer.fit_transform(X_train)\n",
    "X_test_vectorized = vectorizer.transform(X_test)\n",
    "\n",
    "print(X_train_vectorized)\n"
   ]
  },
  {
   "cell_type": "code",
   "execution_count": 11,
   "id": "6da3e5b1",
   "metadata": {},
   "outputs": [
    {
     "name": "stdout",
     "output_type": "stream",
     "text": [
      "[[0. 0. 0. 0. 0. 0. 0. 0. 0. 0.]\n",
      " [0. 0. 0. 0. 0. 0. 0. 0. 0. 0.]\n",
      " [0. 0. 0. 0. 0. 0. 0. 0. 0. 0.]\n",
      " [0. 0. 0. 0. 0. 0. 0. 0. 0. 0.]\n",
      " [0. 0. 0. 0. 0. 0. 0. 0. 0. 0.]]\n"
     ]
    }
   ],
   "source": [
    "# Convert the sparse matrix to a dense NumPy array\n",
    "dense_array = X_train_vectorized[:5, :10].toarray()\n",
    "\n",
    "print(dense_array)\n"
   ]
  },
  {
   "cell_type": "markdown",
   "id": "bdf9d788",
   "metadata": {},
   "source": [
    "Now we will fit a Bernoulli Naive Bayes model using the training data and evaluate the performance."
   ]
  },
  {
   "cell_type": "code",
   "execution_count": 19,
   "id": "e0af3a3f",
   "metadata": {
    "scrolled": true
   },
   "outputs": [
    {
     "name": "stdout",
     "output_type": "stream",
     "text": [
      "Training Accuracy: 0.8854279696176677\n",
      "Training Classification Report:\n",
      "               precision    recall  f1-score   support\n",
      "\n",
      "           0       0.88      0.73      0.80      4859\n",
      "           1       0.89      0.96      0.92     10808\n",
      "\n",
      "    accuracy                           0.89     15667\n",
      "   macro avg       0.88      0.84      0.86     15667\n",
      "weighted avg       0.89      0.89      0.88     15667\n",
      "\n",
      "Training Confusion Matrix:\n",
      " [[ 3536  1323]\n",
      " [  472 10336]]\n",
      "Test Accuracy: 0.8424814909369416\n",
      "Test Classification Report:\n",
      "               precision    recall  f1-score   support\n",
      "\n",
      "           0       0.80      0.64      0.71      1176\n",
      "           1       0.86      0.93      0.89      2741\n",
      "\n",
      "    accuracy                           0.84      3917\n",
      "   macro avg       0.83      0.78      0.80      3917\n",
      "weighted avg       0.84      0.84      0.84      3917\n",
      "\n",
      "Test Confusion Matrix:\n",
      " [[ 749  427]\n",
      " [ 190 2551]]\n"
     ]
    },
    {
     "data": {
      "image/png": "[encoded data removed]",
      "text/plain": [
       "<Figure size 432x288 with 2 Axes>"
      ]
     },
     "metadata": {
      "needs_background": "light"
     },
     "output_type": "display_data"
    },
    {
     "data": {
      "image/png": "[encoded data removed]",
      "text/plain": [
       "<Figure size 432x288 with 2 Axes>"
      ]
     },
     "metadata": {
      "needs_background": "light"
     },
     "output_type": "display_data"
    }
   ],
   "source": [
    "# Create and train the Bernoulli Naive Bayes classifier\n",
    "model = BernoulliNB()\n",
    "model.fit(X_train_vectorized, y_train)\n",
    "\n",
    "# Make predictions on the training set\n",
    "predictions_train = model.predict(X_train_vectorized)\n",
    "\n",
    "# Evaluate the model on the training set\n",
    "accuracy_train = accuracy_score(y_train, predictions_train)\n",
    "report_train = classification_report(y_train, predictions_train)\n",
    "bnb_conf_matrix_train = confusion_matrix(y_train, predictions_train)\n",
    "\n",
    "# Print the results for the training set\n",
    "print(f\"Training Accuracy: {accuracy_train}\")\n",
    "print(\"Training Classification Report:\\n\", report_train)\n",
    "print(\"Training Confusion Matrix:\\n\", conf_matrix_train)\n",
    "\n",
    "# Make predictions on the test set\n",
    "y_pred = model.predict(X_test_vectorized)\n",
    "\n",
    "# Evaluate the model on the test set\n",
    "accuracy = accuracy_score(y_test, y_pred)\n",
    "report_test = classification_report(y_test, y_pred)\n",
    "bnb_conf_matrix_test = confusion_matrix(y_test, y_pred)\n",
    "\n",
    "# Print the results for the test set\n",
    "print(f\"Test Accuracy: {accuracy}\")\n",
    "print(\"Test Classification Report:\\n\", report_test)\n",
    "print(\"Test Confusion Matrix:\\n\", bnb_conf_matrix_test)\n",
    "\n",
    "\n",
    "# Create a heatmap for training\n",
    "sns.heatmap(bnb_conf_matrix_train, annot=True, fmt=\"d\", cmap=\"Blues\", xticklabels=['Negative', 'Positive'], yticklabels=['Negative', 'Positive'])\n",
    "# Add labels and title\n",
    "plt.xlabel('Predicted')\n",
    "plt.ylabel('Actual')\n",
    "plt.title('Bernoulli Training Confusion Matrix')\n",
    "\n",
    "# Show the plot\n",
    "plt.show()\n",
    "\n",
    "# Create a heatmap for evaluation\n",
    "sns.heatmap(bnb_conf_matrix_test, annot=True, fmt=\"d\", cmap=\"Blues\", xticklabels=['Negative', 'Positive'], yticklabels=['Negative', 'Positive'])\n",
    "# Add labels and title\n",
    "plt.xlabel('Predicted')\n",
    "plt.ylabel('Actual')\n",
    "plt.title('Bernoulli Test Confusion Matrix')\n",
    "\n",
    "# Show the plot\n",
    "plt.show()"
   ]
  },
  {
   "cell_type": "markdown",
   "id": "6c1c4104",
   "metadata": {},
   "source": [
    "The Accuracy of the model is approximately 84% using the test data."
   ]
  },
  {
   "cell_type": "markdown",
   "id": "8a48b962",
   "metadata": {},
   "source": [
    "Let's see if tuning the hyperparameters available for the Bernoulli NB model helps to improve the performance."
   ]
  },
  {
   "cell_type": "code",
   "execution_count": 20,
   "id": "0fc25002",
   "metadata": {},
   "outputs": [
    {
     "name": "stdout",
     "output_type": "stream",
     "text": [
      "Best Hyperparameters: {'alpha': 0.4337086111390218, 'binarize': 0.014286681792194078, 'fit_prior': True}\n",
      "Accuracy on the test set: 0.8473321419453663\n"
     ]
    }
   ],
   "source": [
    "# Define the hyperparameter distributions\n",
    "param_dist = {\n",
    "    'alpha': uniform(0.1, 1.0),\n",
    "    'binarize': uniform(0.0, 0.1),\n",
    "    'fit_prior': [True, False]\n",
    "}\n",
    "\n",
    "# Perform randomized search with cross-validation\n",
    "randomized_search = RandomizedSearchCV(model, param_distributions=param_dist, n_iter=10, cv=5, scoring='accuracy', random_state=42)\n",
    "randomized_search.fit(X_train_vectorized, y_train)\n",
    "\n",
    "# Get the best hyperparameters\n",
    "best_params = randomized_search.best_params_\n",
    "print(\"Best Hyperparameters:\", best_params)\n",
    "\n",
    "# Train the model with the best hyperparameters\n",
    "best_model = randomized_search.best_estimator_\n",
    "\n",
    "# Use the best model to make predictions on the test set\n",
    "y_pred = best_model.predict(X_test_vectorized)\n",
    "\n",
    "# Evaluate the accuracy\n",
    "accuracy = accuracy_score(y_test, y_pred)\n",
    "print(f\"Accuracy on the test set: {accuracy}\")"
   ]
  },
  {
   "cell_type": "markdown",
   "id": "c3c81ce0",
   "metadata": {},
   "source": [
    "Adjusting the hyperparameters did not result in an improvement."
   ]
  },
  {
   "cell_type": "markdown",
   "id": "df4fb6a4",
   "metadata": {},
   "source": [
    "Next, we will try a Support Vector Machine (SVM)."
   ]
  },
  {
   "cell_type": "code",
   "execution_count": 22,
   "id": "75a3a729",
   "metadata": {},
   "outputs": [
    {
     "name": "stdout",
     "output_type": "stream",
     "text": [
      "Accuracy: 0.8552463620117436\n",
      "Classification Report:\n",
      "               precision    recall  f1-score   support\n",
      "\n",
      "           0       0.82      0.66      0.73      1176\n",
      "           1       0.87      0.94      0.90      2741\n",
      "\n",
      "    accuracy                           0.86      3917\n",
      "   macro avg       0.84      0.80      0.82      3917\n",
      "weighted avg       0.85      0.86      0.85      3917\n",
      "\n",
      "Confusion Matrix:\n",
      " [[ 781  395]\n",
      " [ 172 2569]]\n"
     ]
    },
    {
     "data": {
      "image/png": "[encoded data removed]",
      "text/plain": [
       "<Figure size 432x288 with 2 Axes>"
      ]
     },
     "metadata": {
      "needs_background": "light"
     },
     "output_type": "display_data"
    }
   ],
   "source": [
    "# Create a pipeline with TF-IDF vectorizer and SVM classifier\n",
    "model = make_pipeline(TfidfVectorizer(), SVC())\n",
    "\n",
    "# Train the model\n",
    "model.fit(X_train, y_train)\n",
    "\n",
    "# Predictions on the test set\n",
    "predictions = model.predict(X_test)\n",
    "\n",
    "# Evaluate the model\n",
    "accuracy = accuracy_score(y_test, predictions)\n",
    "report = classification_report(y_test, predictions)\n",
    "svm_conf_matrix_test = confusion_matrix(y_test, predictions)\n",
    "\n",
    "print(f\"Accuracy: {accuracy}\")\n",
    "print(\"Classification Report:\\n\", report)\n",
    "print(\"Confusion Matrix:\\n\", svm_conf_matrix_test)\n",
    "\n",
    "# Create a heatmap for SVM test results\n",
    "sns.heatmap(svm_conf_matrix_test, annot=True, fmt=\"d\", cmap=\"Blues\", xticklabels=['Negative', 'Positive'], yticklabels=['Negative', 'Positive'])\n",
    "# Add labels and title\n",
    "plt.xlabel('Predicted')\n",
    "plt.ylabel('Actual')\n",
    "plt.title('SVM Test Confusion Matrix')\n",
    "\n",
    "# Show the plot\n",
    "plt.show()"
   ]
  },
  {
   "cell_type": "markdown",
   "id": "7d5859ac",
   "metadata": {},
   "source": [
    "The SVM model performed slightly better than the Bernoulli Naive Bayes model with an accuracy of 85%."
   ]
  },
  {
   "cell_type": "markdown",
   "id": "3f4c7a9a-aa4e-4ca8-bcff-3e4cf3749015",
   "metadata": {},
   "source": [
    "My overall hypothesis is that binary classification is the more appropriate way to categorize reviews than having a three-tiered classification of positive, neutral, and negative. To investigate whether that is true, let's try running a Multinomial Naive Bayes model with three categories of ratings and compare the results."
   ]
  },
  {
   "cell_type": "code",
   "execution_count": 23,
   "id": "1e9e1e43-87f2-4513-b635-dbbbb3b8dc7b",
   "metadata": {},
   "outputs": [],
   "source": [
    "# Function to categorize ratings into 3 categories\n",
    "def categorize_sentiment(rating):\n",
    "    if rating >= 3.5:\n",
    "        return 'positive'\n",
    "    elif 2.5 <= rating < 3.5:\n",
    "        return 'neutral'\n",
    "    else:\n",
    "        return 'negative'"
   ]
  },
  {
   "cell_type": "code",
   "execution_count": 24,
   "id": "8c79baf0-7841-4055-bd0d-eb19dc4660f6",
   "metadata": {
    "scrolled": true
   },
   "outputs": [
    {
     "name": "stdout",
     "output_type": "stream",
     "text": [
      "Training Set:\n",
      "sentiment\n",
      "positive    10808\n",
      "negative     3335\n",
      "neutral      1524\n",
      "Name: count, dtype: int64\n",
      "\n",
      "Testing Set:\n",
      "sentiment\n",
      "positive    2741\n",
      "negative     760\n",
      "neutral      416\n",
      "Name: count, dtype: int64\n",
      "Training Accuracy: 0.7457713665666688\n",
      "Training Classification Report:\n",
      "               precision    recall  f1-score   support\n",
      "\n",
      "    negative       0.95      0.27      0.42      3335\n",
      "     neutral       0.27      0.00      0.01      1524\n",
      "    positive       0.73      1.00      0.85     10808\n",
      "\n",
      "    accuracy                           0.75     15667\n",
      "   macro avg       0.65      0.42      0.42     15667\n",
      "weighted avg       0.73      0.75      0.67     15667\n",
      "\n",
      "Training Confusion Matrix:\n",
      " [[  887     0  2448]\n",
      " [   42     4  1478]\n",
      " [    4    11 10793]]\n",
      "Test Accuracy: 0.7327035996936431\n",
      "Test Classification Report:\n",
      "               precision    recall  f1-score   support\n",
      "\n",
      "    negative       0.91      0.18      0.30       760\n",
      "     neutral       0.00      0.00      0.00       416\n",
      "    positive       0.73      1.00      0.84      2741\n",
      "\n",
      "    accuracy                           0.73      3917\n",
      "   macro avg       0.55      0.39      0.38      3917\n",
      "weighted avg       0.68      0.73      0.65      3917\n",
      "\n",
      "Test Confusion Matrix:\n",
      " [[ 134    0  626]\n",
      " [   8    0  408]\n",
      " [   5    0 2736]]\n"
     ]
    },
    {
     "name": "stderr",
     "output_type": "stream",
     "text": [
      "/home/smoo/.local/lib/python3.10/site-packages/sklearn/metrics/_classification.py:1471: UndefinedMetricWarning: Precision and F-score are ill-defined and being set to 0.0 in labels with no predicted samples. Use `zero_division` parameter to control this behavior.\n",
      "  _warn_prf(average, modifier, msg_start, len(result))\n",
      "/home/smoo/.local/lib/python3.10/site-packages/sklearn/metrics/_classification.py:1471: UndefinedMetricWarning: Precision and F-score are ill-defined and being set to 0.0 in labels with no predicted samples. Use `zero_division` parameter to control this behavior.\n",
      "  _warn_prf(average, modifier, msg_start, len(result))\n",
      "/home/smoo/.local/lib/python3.10/site-packages/sklearn/metrics/_classification.py:1471: UndefinedMetricWarning: Precision and F-score are ill-defined and being set to 0.0 in labels with no predicted samples. Use `zero_division` parameter to control this behavior.\n",
      "  _warn_prf(average, modifier, msg_start, len(result))\n"
     ]
    }
   ],
   "source": [
    "# Create the new target variable 'sentiment'\n",
    "df['sentiment'] = df['student_star'].apply(categorize_sentiment)\n",
    "\n",
    "# Split the data into training and testing sets\n",
    "X_train, X_test, y_train, y_test = train_test_split(df['tokens_lemm'], df['sentiment'], test_size=0.2, random_state=42)\n",
    "\n",
    "# Display the counts in the training set\n",
    "training_counts = y_train.value_counts()\n",
    "print(\"Training Set:\")\n",
    "print(training_counts)\n",
    "\n",
    "# Display the counts in the testing set\n",
    "test_counts = y_test.value_counts()\n",
    "print(\"\\nTesting Set:\")\n",
    "print(test_counts)\n",
    "\n",
    "# Create and train the Multinomial Naive Bayes classifier\n",
    "model = MultinomialNB()\n",
    "model.fit(X_train_vectorized, y_train)\n",
    "\n",
    "# Make predictions on the test set\n",
    "y_pred = model.predict(X_test_vectorized)\n",
    "\n",
    "# Evaluate the model on the training set\n",
    "accuracy_train = accuracy_score(y_train, model.predict(X_train_vectorized))\n",
    "report_train = classification_report(y_train, model.predict(X_train_vectorized))\n",
    "conf_matrix_train = confusion_matrix(y_train, model.predict(X_train_vectorized))\n",
    "\n",
    "# Print the results for the training set\n",
    "print(f\"Training Accuracy: {accuracy_train}\")\n",
    "print(\"Training Classification Report:\\n\", report_train)\n",
    "print(\"Training Confusion Matrix:\\n\", conf_matrix_train)\n",
    "\n",
    "# Evaluate the model on the test set\n",
    "accuracy = accuracy_score(y_test, y_pred)\n",
    "report_test = classification_report(y_test, y_pred)\n",
    "conf_matrix_test = confusion_matrix(y_test, y_pred)\n",
    "\n",
    "# Print the results for the test set\n",
    "print(f\"Test Accuracy: {accuracy}\")\n",
    "print(\"Test Classification Report:\\n\", report_test)\n",
    "print(\"Test Confusion Matrix:\\n\", conf_matrix_test)"
   ]
  },
  {
   "cell_type": "code",
   "execution_count": 25,
   "id": "2358359c-8e8c-42c3-8f89-e97a2eca7643",
   "metadata": {
    "scrolled": true
   },
   "outputs": [
    {
     "data": {
      "image/png": "[encoded data removed]",
      "text/plain": [
       "<Figure size 432x288 with 2 Axes>"
      ]
     },
     "metadata": {
      "needs_background": "light"
     },
     "output_type": "display_data"
    }
   ],
   "source": [
    "#Generate confusion matrix heat map for Training Results\n",
    "conf_matrix_train = confusion_matrix(y_train, model.predict(X_train_vectorized))\n",
    "# Create a heatmap for training\n",
    "sns.heatmap(conf_matrix_train, annot=True, fmt=\"d\", cmap=\"Blues\", xticklabels=['Negative', 'Neutral', 'Positive'], yticklabels=['Class 1', 'Class 2', 'Class 3'])\n",
    "# Add labels and title\n",
    "plt.xlabel('Predicted')\n",
    "plt.ylabel('Actual')\n",
    "plt.title('Training Confusion Matrix')\n",
    "\n",
    "# Show the plot\n",
    "plt.show()"
   ]
  },
  {
   "cell_type": "code",
   "execution_count": 26,
   "id": "3a6b8432-8626-40bb-a4a7-130ea04dac62",
   "metadata": {},
   "outputs": [
    {
     "data": {
      "image/png": "[encoded data removed]",
      "text/plain": [
       "<Figure size 432x288 with 2 Axes>"
      ]
     },
     "metadata": {
      "needs_background": "light"
     },
     "output_type": "display_data"
    }
   ],
   "source": [
    "#Generate confusion matrix heat map for Test Results\n",
    "conf_matrix_test = confusion_matrix(y_test, y_pred)\n",
    "\n",
    "# Create a heatmap for training\n",
    "sns.heatmap(conf_matrix_test, annot=True, fmt=\"d\", cmap=\"Blues\", xticklabels=['Negative', 'Neutral', 'Positive'], yticklabels=['Class 1', 'Class 2', 'Class 3'])\n",
    "# Add labels and title\n",
    "plt.xlabel('Predicted')\n",
    "plt.ylabel('Actual')\n",
    "plt.title('Test Confusion Matrix')\n",
    "\n",
    "# Show the plot\n",
    "plt.show()"
   ]
  },
  {
   "cell_type": "markdown",
   "id": "d6bc1eb6-64f2-4a7b-ad22-fb8da0ffc8bf",
   "metadata": {},
   "source": [
    "The Multinomial Naive Bayes model performed best in predicting positive sentiment -> high precision, recall, and F1-score on both the training and testing sets.\n",
    "It did not perform well in identifying neutral reviews and had low recall on negative reviews which indicates that it failed to categorize several of those correctly.\n",
    "The Multinomial Naive Bayes model did not perform as well as the binary classification models which may support my original theory that neutral sentiment is difficult to distinguish from negative and positive and thus is not a meaningful category to include in this analysis. The difficulty with classifying neutral cases may be due to the subjectivity of the Likert Scale (1-5) or this may simply be due to the class imbalance as there are fewer neutral cases to train on (11% of set). The imbalance of the set may itself, be a reflection of polarization that is endemic to online rating systems which tend to feature either very positive or very negative reviews with fewer moderate ratings."
   ]
  }
 ],
 "metadata": {
  "kernelspec": {
   "display_name": "Python 3 (ipykernel)",
   "language": "python",
   "name": "python3"
  },
  "language_info": {
   "codemirror_mode": {
    "name": "ipython",
    "version": 3
   },
   "file_extension": ".py",
   "mimetype": "text/x-python",
   "name": "python",
   "nbconvert_exporter": "python",
   "pygments_lexer": "ipython3",
   "version": "3.10.12"
  }
 },
 "nbformat": 4,
 "nbformat_minor": 5
}
