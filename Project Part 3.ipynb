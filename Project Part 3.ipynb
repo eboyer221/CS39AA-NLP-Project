{
 "cells": [
  {
   "cell_type": "code",
   "execution_count": null,
   "id": "361b593d",
   "metadata": {},
   "outputs": [],
   "source": [
    "#install the transformers library\n",
    "!pip install transformers"
   ]
  },
  {
   "cell_type": "code",
   "execution_count": null,
   "id": "0c095129",
   "metadata": {},
   "outputs": [],
   "source": [
    "#install packages\n",
    "import pandas as pd\n",
    "from sklearn.model_selection import train_test_split\n",
    "from sklearn.feature_extraction.text import TfidfVectorizer\n",
    "from sklearn.metrics import accuracy_score, classification_report, confusion_matrix\n",
    "from transformers import BertTokenizer, BertForSequenceClassification, AdamW\n",
    "from torch.utils.data import DataLoader, TensorDataset, random_split\n",
    "from torch.nn import CrossEntropyLoss\n",
    "from tqdm import tqdm\n",
    "import torch"
   ]
  },
  {
   "cell_type": "code",
   "execution_count": null,
   "id": "98f4cd8f",
   "metadata": {},
   "outputs": [],
   "source": [
    "# Load the ratemyprofessor ratings dataset\n",
    "data_path = 'https://raw.githubusercontent.com/eboyer221/CS39AA-Project/main/merged_data.csv'\n",
    "df = pd.read_csv(data_path)"
   ]
  },
  {
   "cell_type": "code",
   "execution_count": null,
   "id": "717288bf",
   "metadata": {},
   "outputs": [],
   "source": [
    "#Apply cleaning steps to the dataset\n",
    "#remove rows that have null values in either of these columns\n",
    "columns_to_check = ['student_star', 'comments']\n",
    "\n",
    "# Remove rows with null values in either of the specified columns\n",
    "df_1 = df_1.dropna(subset=columns_to_check)\n",
    "\n",
    "# Reset the index after removing rows\n",
    "df_1.reset_index(drop=True, inplace=True)\n",
    "# Columns to remove \n",
    "columns_to_remove = ['school_name', 'local_name', 'state_name',\n",
    "                    'year_since_first_review', 'take_again', 'diff_index',\n",
    "                    'tag_professor', 'post_date', 'name_onlines', 'attence',\n",
    "                    'for_credits', 'would_take_agains', 'grades', 'stu_tags',\n",
    "                    'help_useful', 'help_not_useful']\n",
    "\n",
    "# Drop the specified columns\n",
    "df = df_1.drop(columns=columns_to_remove)\n",
    "\n",
    "#Change the pandas default column width to view more of the comments field\n",
    "pd.set_option(\"display.max_colwidth\", 370)"
   ]
  }
 ],
 "metadata": {
  "kernelspec": {
   "display_name": "Python 3 (ipykernel)",
   "language": "python",
   "name": "python3"
  },
  "language_info": {
   "codemirror_mode": {
    "name": "ipython",
    "version": 3
   },
   "file_extension": ".py",
   "mimetype": "text/x-python",
   "name": "python",
   "nbconvert_exporter": "python",
   "pygments_lexer": "ipython3",
   "version": "3.10.12"
  }
 },
 "nbformat": 4,
 "nbformat_minor": 5
}
